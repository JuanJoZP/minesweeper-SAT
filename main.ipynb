{
 "cells": [
  {
   "cell_type": "markdown",
   "metadata": {},
   "source": [
    "<table>\n",
    "    <tr>\n",
    "        <td><img src=\"./img/Macc.png\" width=\"auto\"/></td>\n",
    "        <td>\n",
    "            <table><tr>\n",
    "            <h1 style=\"color:blue;text-align:center\">Lógica para Ciencias de la Computación</h1></td>\n",
    "            </tr></table>   \n",
    "        <td>&nbsp;</td>\n",
    "        <td>\n",
    "            <table><tr>\n",
    "            <tp><p style=\"font-size:150%;text-align:center\">Proyecto</p></tp>\n",
    "            <tp><p style=\"font-size:150%;text-align:center\">Buscaminas - Entrega 2</p></tp>\n",
    "            </tr></table>\n",
    "        </td>\n",
    "    </tr>\n",
    "</table>\n",
    "\n",
    "---"
   ]
  },
  {
   "cell_type": "markdown",
   "metadata": {},
   "source": [
    "# Secciones <a class=\"anchor\" id=\"inicio\"></a>\n",
    "\n",
    "1. [Problema ilustrativo.](#prob)\n",
    "2. [Implementación de las restricciones.](#forms)\n",
    "3. [Visualización.](#disp)"
   ]
  },
  {
   "cell_type": "markdown",
   "metadata": {},
   "source": [
    "# Buscaminas <a class=\"anchor\" id=\"prob\"></a>\n",
    "\n",
    "([Volver al inicio](#inicio))\n",
    "\n",
    "Hecho por <b>Juan David Londoño Pinzon - Juan José Zuluaga Patiño - Juan David Serna Murcia</b>\n",
    "\n",
    "Comenzaremos con el proyecto de un algoritmo que sea capaz de resolver el juego \"Buscaminas\".\n",
    "\n",
    "Los pasos que sigue el algoritmo son:\n",
    "\n",
    "1. Cada casilla del tablero que esté destapada y tenga un número en ella (los cuales van del 1 al 7) se le revisan las 8 casillas aledañas y de aquellas, las que esten tapadas (A las que se les reserva el numero 9) se tomaran como posibles minas y se les asignará una letra propsicional.\n",
    "\n",
    "2. Todas estas son revisadas por la regla, que para cada casilla destapada, saca las posibles distribuciones de minas en las casillas aledañas, esto lo hace mediante combinatorias de k minas en n posiciones (Función C_n), siendo n las casillas tapadas aledañas a la casilla, y k el numero que tiene la casilla.\n",
    "<br/>\n",
    "Para satisfacer un casilla, se debe cumplir cualquiera de sus posibles distribuciones (Otoria), y para satisfacer el problema completo se deben satisfacer todas las casillas (Ytoria). Internamente cada distribucion es una Ytoria de cada átomo negadas o no, indicando si hay o no mina en esa posibilidad.\n",
    "<br/>\n",
    "<img src=\"./img/Regla.jpg\">\n",
    "<br/>\n",
    "<br/>\n",
    "La regla y su representación usando lógica proposicional es la siguiente:\n",
    "$$\\bigwedge_{(x,y)\\space\\in\\space Mat}\\left(\\exists Mat[x][y]\\space tq\\space (Mat[x][y]\\neq 0 \\wedge Mat[x][y]\\neq 9)\\to (\\space \\bigvee_{dist\\space\\in\\space C\\_n(x,y)}(\\bigwedge_{L\\space\\in\\space dist}L)) \\right)$$\n",
    "\n",
    "3. Despues se deben obtener todas las interpretaciones posibles, se cuentan las veces que sale cada letra con una interpretacion verdadera, entre mas interpretaciones verdaderas tengan, tendran cada vez mas probabilidad de ser minas y usando las probabilidades, se marcarían como minas o como casillas libres. Aquellas letras que no tengan un 100% o 0% de probabilidades de ser minas, se dejaran como estan y se comunica esta informacion al usuario.\n",
    "<br/>\n",
    "\n",
    "\n",
    "\n"
   ]
  },
  {
   "cell_type": "markdown",
   "metadata": {},
   "source": [
    "## Implementación de las restricciones <a class=\"anchor\" id=\"forms\"></a>\n",
    "([Volver al inicio](#inicio))\n",
    "\n",
    "En la librería `Problemas` hemos implementado la regla. Puede correr el siguiente código para visualizar el resultado, y puede entrar a la librería para explorar la implementación:"
   ]
  },
  {
   "cell_type": "code",
   "execution_count": 1,
   "metadata": {
    "scrolled": true
   },
   "outputs": [],
   "source": [
    "from Problemas import Tablero\n",
    "from Logica import *"
   ]
  },
  {
   "cell_type": "markdown",
   "metadata": {},
   "source": [
    "### Inicializacion de la clase tablero <a class=\"anchor\" id=\"forms\"></a>\n",
    "\n",
    "La clase `Tablero` se inicializa con el llamado de 2 variables, el largo del tablero (`length_x`, un entero), el ancho del tablero (`width_y`, un entero), dentro de la funcion se define `self.Matriz`, que posteriormente sera llenada con los datos del tablero y se define `self.MenC` como un Descriptor.\n",
    "<br/>\n",
    "La funcion `update` ubica en `self.Matriz` los datos del tablero e inicializa en `self.matriz_minas` los atomos del descriptor correspondientes a las casillas destapadas que van a ser determinadas. Para finalizar, se recalcula la regla en `self.regla` haciendo uso del nuevo tablero.\n",
    "\n",
    "En este caso, crearemos la clase Tablero y le pondremos los datos de la imagen como ejemplo.\n",
    "\n",
    "<img src=\"./img/tablero.png\">\n",
    "\n",
    "Como se puede ver, hay algunas casillas que no tienen ningun número, y otras que están tapadas, esto en la matriz lo representamos con 0 para las casillas sin numero y con 9 para las casillas tapadas"
   ]
  },
  {
   "cell_type": "code",
   "execution_count": 2,
   "metadata": {},
   "outputs": [],
   "source": [
    "matriz = [\n",
    "    [0, 0, 0, 1, 9, 9, 9, 9],\n",
    "    [0, 0, 1, 2, 9, 9, 9, 9],\n",
    "    [0, 1, 2, 9, 9, 9, 9, 9], \n",
    "    [0, 1, 9, 9, 9, 9, 9, 9],\n",
    "    [0, 1, 1, 3, 9, 9, 9, 9], \n",
    "    [0, 0, 0, 2, 9, 9, 9, 9],\n",
    "    [1, 2, 1, 2, 9, 9, 9, 9], \n",
    "    [9, 9, 9, 9, 9, 9, 9, 9]\n",
    "]\n",
    "\n",
    "tablero = Tablero(8, 8)\n",
    "tablero.update(matriz)"
   ]
  },
  {
   "cell_type": "markdown",
   "metadata": {},
   "source": [
    "En nuestro problema, el numero de átomos es variable y se deben crear teniendo en cuenta el tablero recibido. Este es el primer paso del algoritmo y se hace con la ayuda de la funcion `init_MenC`, esta funcion observa cada casilla del tablero que esta destapada, y crea los átomos para cada casilla tapada aledaña a estas, para relacionar el átomo con las coordenadas de su casilla, se ubican las letras proposicionales en una matriz que se usara mas adelante para la construcción de la regla."
   ]
  },
  {
   "cell_type": "code",
   "execution_count": 3,
   "metadata": {},
   "outputs": [
    {
     "name": "stdout",
     "output_type": "stream",
     "text": [
      "[None, None, None, None, 'Ġ', None, None, None]\n",
      "[None, None, None, None, 'ġ', None, None, None]\n",
      "[None, None, None, 'Ě', 'Ģ', None, None, None]\n",
      "[None, None, 'ē', 'ě', 'ģ', None, None, None]\n",
      "[None, None, None, None, 'Ĥ', None, None, None]\n",
      "[None, None, None, None, 'ĥ', None, None, None]\n",
      "[None, None, None, None, 'Ħ', None, None, None]\n",
      "['ć', 'ď', 'ė', 'ğ', 'ħ', None, None, None]\n"
     ]
    }
   ],
   "source": [
    "from Problemas import init_MenC\n",
    "\n",
    "matriz_atomos = init_MenC(tablero.MenC, matriz)\n",
    "for fila in matriz_atomos:\n",
    "    print(fila)"
   ]
  },
  {
   "cell_type": "markdown",
   "metadata": {},
   "source": [
    "La clase `Tablero` crea de una vez el descriptor, mediante el cual podemos decodificar las letras:"
   ]
  },
  {
   "cell_type": "code",
   "execution_count": 4,
   "metadata": {},
   "outputs": [
    {
     "data": {
      "text/plain": [
       "' hay una mina en la casilla (7,0)'"
      ]
     },
     "execution_count": 4,
     "metadata": {},
     "output_type": "execute_result"
    }
   ],
   "source": [
    "tablero.MenC.escribir('ć')"
   ]
  },
  {
   "cell_type": "markdown",
   "metadata": {},
   "source": [
    "Observe que las fórmulas incluyen un método `ver` para visualizar más fácilmente las reglas:"
   ]
  },
  {
   "cell_type": "code",
   "execution_count": 5,
   "metadata": {},
   "outputs": [
    {
     "name": "stdout",
     "output_type": "stream",
     "text": [
      "((((((((((((((( hay una mina en la casilla (0,4) Y  no  hay una mina en la casilla (1,4)) O ( hay una mina en la casilla (1,4) Y  no  hay una mina en la casilla (0,4))) Y  hay una mina en la casilla (2,3)) Y (((((((( hay una mina en la casilla (0,4) Y  hay una mina en la casilla (1,4)) Y  no  hay una mina en la casilla (2,3)) Y  no  hay una mina en la casilla (2,4)) O ((( hay una mina en la casilla (0,4) Y  hay una mina en la casilla (2,3)) Y  no  hay una mina en la casilla (1,4)) Y  no  hay una mina en la casilla (2,4))) O ((( hay una mina en la casilla (0,4) Y  hay una mina en la casilla (2,4)) Y  no  hay una mina en la casilla (1,4)) Y  no  hay una mina en la casilla (2,3))) O ((( hay una mina en la casilla (1,4) Y  hay una mina en la casilla (2,3)) Y  no  hay una mina en la casilla (0,4)) Y  no  hay una mina en la casilla (2,4))) O ((( hay una mina en la casilla (1,4) Y  hay una mina en la casilla (2,4)) Y  no  hay una mina en la casilla (0,4)) Y  no  hay una mina en la casilla (2,3))) O ((( hay una mina en la casilla (2,3) Y  hay una mina en la casilla (2,4)) Y  no  hay una mina en la casilla (0,4)) Y  no  hay una mina en la casilla (1,4)))) Y  hay una mina en la casilla (3,2)) Y (((( hay una mina en la casilla (2,3) Y  hay una mina en la casilla (3,2)) Y  no  hay una mina en la casilla (3,3)) O (( hay una mina en la casilla (2,3) Y  hay una mina en la casilla (3,3)) Y  no  hay una mina en la casilla (3,2))) O (( hay una mina en la casilla (3,2) Y  hay una mina en la casilla (3,3)) Y  no  hay una mina en la casilla (2,3)))) Y  hay una mina en la casilla (3,2)) Y  hay una mina en la casilla (3,2)) Y (( hay una mina en la casilla (3,2) Y  no  hay una mina en la casilla (3,3)) O ( hay una mina en la casilla (3,3) Y  no  hay una mina en la casilla (3,2)))) Y ((((((((((((( hay una mina en la casilla (3,2) Y  hay una mina en la casilla (3,3)) Y  hay una mina en la casilla (3,4)) Y  no  hay una mina en la casilla (4,4)) Y  no  hay una mina en la casilla (5,4)) O (((( hay una mina en la casilla (3,2) Y  hay una mina en la casilla (3,3)) Y  hay una mina en la casilla (4,4)) Y  no  hay una mina en la casilla (3,4)) Y  no  hay una mina en la casilla (5,4))) O (((( hay una mina en la casilla (3,2) Y  hay una mina en la casilla (3,3)) Y  hay una mina en la casilla (5,4)) Y  no  hay una mina en la casilla (3,4)) Y  no  hay una mina en la casilla (4,4))) O (((( hay una mina en la casilla (3,2) Y  hay una mina en la casilla (3,4)) Y  hay una mina en la casilla (4,4)) Y  no  hay una mina en la casilla (3,3)) Y  no  hay una mina en la casilla (5,4))) O (((( hay una mina en la casilla (3,2) Y  hay una mina en la casilla (3,4)) Y  hay una mina en la casilla (5,4)) Y  no  hay una mina en la casilla (3,3)) Y  no  hay una mina en la casilla (4,4))) O (((( hay una mina en la casilla (3,2) Y  hay una mina en la casilla (4,4)) Y  hay una mina en la casilla (5,4)) Y  no  hay una mina en la casilla (3,3)) Y  no  hay una mina en la casilla (3,4))) O (((( hay una mina en la casilla (3,3) Y  hay una mina en la casilla (3,4)) Y  hay una mina en la casilla (4,4)) Y  no  hay una mina en la casilla (3,2)) Y  no  hay una mina en la casilla (5,4))) O (((( hay una mina en la casilla (3,3) Y  hay una mina en la casilla (3,4)) Y  hay una mina en la casilla (5,4)) Y  no  hay una mina en la casilla (3,2)) Y  no  hay una mina en la casilla (4,4))) O (((( hay una mina en la casilla (3,3) Y  hay una mina en la casilla (4,4)) Y  hay una mina en la casilla (5,4)) Y  no  hay una mina en la casilla (3,2)) Y  no  hay una mina en la casilla (3,4))) O (((( hay una mina en la casilla (3,4) Y  hay una mina en la casilla (4,4)) Y  hay una mina en la casilla (5,4)) Y  no  hay una mina en la casilla (3,2)) Y  no  hay una mina en la casilla (3,3)))) Y (((( hay una mina en la casilla (4,4) Y  hay una mina en la casilla (5,4)) Y  no  hay una mina en la casilla (6,4)) O (( hay una mina en la casilla (4,4) Y  hay una mina en la casilla (6,4)) Y  no  hay una mina en la casilla (5,4))) O (( hay una mina en la casilla (5,4) Y  hay una mina en la casilla (6,4)) Y  no  hay una mina en la casilla (4,4)))) Y (( hay una mina en la casilla (7,0) Y  no  hay una mina en la casilla (7,1)) O ( hay una mina en la casilla (7,1) Y  no  hay una mina en la casilla (7,0)))) Y (((( hay una mina en la casilla (7,0) Y  hay una mina en la casilla (7,1)) Y  no  hay una mina en la casilla (7,2)) O (( hay una mina en la casilla (7,0) Y  hay una mina en la casilla (7,2)) Y  no  hay una mina en la casilla (7,1))) O (( hay una mina en la casilla (7,1) Y  hay una mina en la casilla (7,2)) Y  no  hay una mina en la casilla (7,0)))) Y (((( hay una mina en la casilla (7,1) Y  no  hay una mina en la casilla (7,2)) Y  no  hay una mina en la casilla (7,3)) O (( hay una mina en la casilla (7,2) Y  no  hay una mina en la casilla (7,1)) Y  no  hay una mina en la casilla (7,3))) O (( hay una mina en la casilla (7,3) Y  no  hay una mina en la casilla (7,1)) Y  no  hay una mina en la casilla (7,2)))) Y ((((((((((((( hay una mina en la casilla (5,4) Y  hay una mina en la casilla (6,4)) Y  no  hay una mina en la casilla (7,2)) Y  no  hay una mina en la casilla (7,3)) Y  no  hay una mina en la casilla (7,4)) O (((( hay una mina en la casilla (5,4) Y  hay una mina en la casilla (7,2)) Y  no  hay una mina en la casilla (6,4)) Y  no  hay una mina en la casilla (7,3)) Y  no  hay una mina en la casilla (7,4))) O (((( hay una mina en la casilla (5,4) Y  hay una mina en la casilla (7,3)) Y  no  hay una mina en la casilla (6,4)) Y  no  hay una mina en la casilla (7,2)) Y  no  hay una mina en la casilla (7,4))) O (((( hay una mina en la casilla (5,4) Y  hay una mina en la casilla (7,4)) Y  no  hay una mina en la casilla (6,4)) Y  no  hay una mina en la casilla (7,2)) Y  no  hay una mina en la casilla (7,3))) O (((( hay una mina en la casilla (6,4) Y  hay una mina en la casilla (7,2)) Y  no  hay una mina en la casilla (5,4)) Y  no  hay una mina en la casilla (7,3)) Y  no  hay una mina en la casilla (7,4))) O (((( hay una mina en la casilla (6,4) Y  hay una mina en la casilla (7,3)) Y  no  hay una mina en la casilla (5,4)) Y  no  hay una mina en la casilla (7,2)) Y  no  hay una mina en la casilla (7,4))) O (((( hay una mina en la casilla (6,4) Y  hay una mina en la casilla (7,4)) Y  no  hay una mina en la casilla (5,4)) Y  no  hay una mina en la casilla (7,2)) Y  no  hay una mina en la casilla (7,3))) O (((( hay una mina en la casilla (7,2) Y  hay una mina en la casilla (7,3)) Y  no  hay una mina en la casilla (5,4)) Y  no  hay una mina en la casilla (6,4)) Y  no  hay una mina en la casilla (7,4))) O (((( hay una mina en la casilla (7,2) Y  hay una mina en la casilla (7,4)) Y  no  hay una mina en la casilla (5,4)) Y  no  hay una mina en la casilla (6,4)) Y  no  hay una mina en la casilla (7,3))) O (((( hay una mina en la casilla (7,3) Y  hay una mina en la casilla (7,4)) Y  no  hay una mina en la casilla (5,4)) Y  no  hay una mina en la casilla (6,4)) Y  no  hay una mina en la casilla (7,2))))\n"
     ]
    }
   ],
   "source": [
    "regla1 = inorder_to_tree(tablero.regla)\n",
    "print(regla1.ver(tablero.MenC))"
   ]
  },
  {
   "cell_type": "markdown",
   "metadata": {},
   "source": [
    "Nuestra regla es realmente simple a nivel estructural, la parte mas importante se encuentra en la funcion `C_n` esta funcion devuelve una lista con todas las combinaciones en las que se pueden ubicar las minas correspondientes a una casilla.\n",
    "<br/>\n",
    "<br/>\n",
    "Visualmente es algo asi:\n",
    "<br/>\n",
    "<img src=\"./img/combinaciones.png\">"
   ]
  },
  {
   "cell_type": "code",
   "execution_count": 6,
   "metadata": {},
   "outputs": [
    {
     "name": "stdout",
     "output_type": "stream",
     "text": [
      "--------\n",
      " hay una mina en la casilla (0,4)\n",
      " no hay una mina en la casilla (1,4)\n",
      "--------\n",
      " hay una mina en la casilla (1,4)\n",
      " no hay una mina en la casilla (0,4)\n"
     ]
    }
   ],
   "source": [
    "from Problemas import C_n\n",
    "\n",
    "for i in C_n(3,0,tablero.matriz, tablero.matriz_minas):\n",
    "    print(\"--------\")\n",
    "    for j in i:\n",
    "        print(tablero.MenC.escribir(j))"
   ]
  },
  {
   "cell_type": "markdown",
   "metadata": {},
   "source": [
    "Para crear la regla usamos una Otoria de estas combinaciones para cada casilla, unidas por una Itoria."
   ]
  },
  {
   "cell_type": "code",
   "execution_count": 7,
   "metadata": {},
   "outputs": [
    {
     "data": {
      "text/plain": [
       "'\\nreturn Ytoria(rule)\\n'"
      ]
     },
     "execution_count": 7,
     "metadata": {},
     "output_type": "execute_result"
    }
   ],
   "source": [
    "\"\"\"\n",
    "Para (j, i) en las casillas destapadas:\n",
    "    for pos_comb in C_n(j, i, self.matriz, self.matriz_minas):\n",
    "        comb.append(Ytoria(pos_comb))\n",
    "    rule.append(Otoria(comb))\n",
    "\"\"\"\n",
    "\n",
    "# ......\n",
    "\n",
    "\"\"\"\n",
    "return Ytoria(rule)\n",
    "\"\"\""
   ]
  },
  {
   "cell_type": "markdown",
   "metadata": {},
   "source": [
    "# Visualización <a class=\"anchor\" id=\"disp\"></a>\n",
    "\n",
    "([Volver al inicio](#inicio))\n",
    "\n",
    "Nuestro algoritmo va a trabajar sobre la pagina web https://buscaminas-pro.com/, una pagina donde se puede jugar el buscaminas de manera convencional.\n",
    "\n",
    "Para la visualización requerimos que el programa pueda interactuar con el navegador, reconocer las casillas y dar clicks, para esto usamos la libreria selenium.\n",
    "\n",
    "Para el primer turno se da click en la esquina superior izquierda y se actualiza la regla con el tablero recien destapado, apartir de este punto hay un bucle infinito en el que suceden varias cosas:\n",
    "- se actualiza constantemente el tablero.\n",
    "- se aplica tabla de verdad sobre la regla.\n",
    "- se toman todas las interpretaciones y se cuentan las veces que salio verdadero cada atomo\n",
    "- se marcan como minas los atomos que salieron verdaderos todas las veces, se marcan como casillas libres los atomos que salieron falsos todas las veces\n",
    "- se destapan las casillas marcadas como libres y se ponen banderas sobre las casillas marcadas como minas\n",
    "- se repite hasta que se resuelve el tablero, se llega a un punto donde no se puede determinar nada con exactitud o hay un error"
   ]
  },
  {
   "cell_type": "code",
   "execution_count": 8,
   "metadata": {},
   "outputs": [
    {
     "ename": "IndexError",
     "evalue": "list index out of range",
     "output_type": "error",
     "traceback": [
      "\u001b[1;31m---------------------------------------------------------------------------\u001b[0m",
      "\u001b[1;31mIndexError\u001b[0m                                Traceback (most recent call last)",
      "Cell \u001b[1;32mIn [8], line 4\u001b[0m\n\u001b[0;32m      1\u001b[0m \u001b[39mfrom\u001b[39;00m \u001b[39mDisplay\u001b[39;00m \u001b[39mimport\u001b[39;00m Jugador\n\u001b[0;32m      3\u001b[0m mec \u001b[39m=\u001b[39m Jugador()\n\u001b[1;32m----> 4\u001b[0m mec\u001b[39m.\u001b[39;49mjugar()\n",
      "File \u001b[1;32mc:\\Users\\JuanJo\\Desktop\\buscaminas\\Display.py:51\u001b[0m, in \u001b[0;36mJugador.jugar\u001b[1;34m(self)\u001b[0m\n\u001b[0;32m     49\u001b[0m \u001b[39mwhile\u001b[39;00m \u001b[39mnot\u001b[39;00m \u001b[39mself\u001b[39m\u001b[39m.\u001b[39mestancado \u001b[39mand\u001b[39;00m \u001b[39mnot\u001b[39;00m \u001b[39mself\u001b[39m\u001b[39m.\u001b[39macabo:\n\u001b[0;32m     50\u001b[0m     \u001b[39mself\u001b[39m\u001b[39m.\u001b[39mactualizar_tablero()\n\u001b[1;32m---> 51\u001b[0m     \u001b[39mself\u001b[39;49m\u001b[39m.\u001b[39;49mturno()\n\u001b[0;32m     52\u001b[0m     time\u001b[39m.\u001b[39msleep(\u001b[39m1\u001b[39m)\n",
      "File \u001b[1;32mc:\\Users\\JuanJo\\Desktop\\buscaminas\\Display.py:33\u001b[0m, in \u001b[0;36mJugador.turno\u001b[1;34m(self)\u001b[0m\n\u001b[0;32m     28\u001b[0m \u001b[39mdef\u001b[39;00m \u001b[39mturno\u001b[39m(\u001b[39mself\u001b[39m):\n\u001b[0;32m     29\u001b[0m     \u001b[39m\"\"\"da click izquierdo en la pagina web a las casillas sin minas\u001b[39;00m\n\u001b[0;32m     30\u001b[0m \u001b[39m    para destaparlas.\u001b[39;00m\n\u001b[0;32m     31\u001b[0m \u001b[39m    da click derecho en la pagina web a las casillas con minas\u001b[39;00m\n\u001b[0;32m     32\u001b[0m \u001b[39m    para marcarlas con la bandera\"\"\"\u001b[39;00m\n\u001b[1;32m---> 33\u001b[0m     interpretacion \u001b[39m=\u001b[39m \u001b[39mself\u001b[39;49m\u001b[39m.\u001b[39;49msacar_interpretacion()\n\u001b[0;32m     34\u001b[0m     \u001b[39mfor\u001b[39;00m letra \u001b[39min\u001b[39;00m interpretacion:\n\u001b[0;32m     35\u001b[0m         yx \u001b[39m=\u001b[39m \u001b[39mself\u001b[39m\u001b[39m.\u001b[39mtablero\u001b[39m.\u001b[39mMenC\u001b[39m.\u001b[39minv(letra)\n",
      "File \u001b[1;32mc:\\Users\\JuanJo\\Desktop\\buscaminas\\Display.py:69\u001b[0m, in \u001b[0;36mJugador.sacar_interpretacion\u001b[1;34m(self)\u001b[0m\n\u001b[0;32m     66\u001b[0m result \u001b[39m=\u001b[39m {}\n\u001b[0;32m     67\u001b[0m soluciones \u001b[39m=\u001b[39m \u001b[39mself\u001b[39m\u001b[39m.\u001b[39mtablero\u001b[39m.\u001b[39mSATtabla()\n\u001b[1;32m---> 69\u001b[0m \u001b[39mfor\u001b[39;00m letra \u001b[39min\u001b[39;00m soluciones[\u001b[39m0\u001b[39;49m]:\n\u001b[0;32m     70\u001b[0m     result[letra] \u001b[39m=\u001b[39m \u001b[39m0\u001b[39m\n\u001b[0;32m     72\u001b[0m \u001b[39mfor\u001b[39;00m solucion \u001b[39min\u001b[39;00m \u001b[39mself\u001b[39m\u001b[39m.\u001b[39mtablero\u001b[39m.\u001b[39mSATtabla():\n",
      "\u001b[1;31mIndexError\u001b[0m: list index out of range"
     ]
    }
   ],
   "source": [
    "from Display import Jugador\n",
    "\n",
    "mec = Jugador()\n",
    "mec.jugar()"
   ]
  }
 ],
 "metadata": {
  "kernelspec": {
   "display_name": "Python 3.9.1 64-bit",
   "language": "python",
   "name": "python3"
  },
  "language_info": {
   "codemirror_mode": {
    "name": "ipython",
    "version": 3
   },
   "file_extension": ".py",
   "mimetype": "text/x-python",
   "name": "python",
   "nbconvert_exporter": "python",
   "pygments_lexer": "ipython3",
   "version": "3.9.1"
  },
  "vscode": {
   "interpreter": {
    "hash": "81794d4967e6c3204c66dcd87b604927b115b27c00565d3d43f05ba2f3a2cb0d"
   }
  }
 },
 "nbformat": 4,
 "nbformat_minor": 4
}
